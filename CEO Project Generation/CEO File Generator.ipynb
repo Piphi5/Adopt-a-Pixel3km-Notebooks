{
 "cells": [
  {
   "cell_type": "markdown",
   "id": "f092c7bf-97a5-4f2e-b190-caef17bc78b8",
   "metadata": {},
   "source": [
    "[![Open In Colab](https://colab.research.google.com/assets/colab-badge.svg)](https://colab.research.google.com/github/Piphi5/Adopt-a-Pixel3km-Notebooks/blob/main/CEO%20Project%20Generation/CEO%20File%20Generator.ipynb)"
   ]
  },
  {
   "cell_type": "markdown",
   "id": "ee06d645-f831-4bfb-9280-866b8ef8882c",
   "metadata": {},
   "source": [
    "# Setup"
   ]
  },
  {
   "cell_type": "code",
   "execution_count": 2,
   "id": "6c4e8d2c",
   "metadata": {},
   "outputs": [],
   "source": [
    "import pandas as pd\n",
    "import os"
   ]
  },
  {
   "cell_type": "markdown",
   "id": "88a8b15f-f3fa-4bdd-9d4c-c222e1c29637",
   "metadata": {
    "tags": []
   },
   "source": [
    "## Specify Directories\n",
    "\n",
    "- `input_directory`: The name of the directory containing the files that will be read\n",
    "- `output_directory`: The name of the directory that will contain the generated files"
   ]
  },
  {
   "cell_type": "code",
   "execution_count": 3,
   "id": "ac5b08e0-55bd-4871-b3d1-59b6b789f463",
   "metadata": {},
   "outputs": [],
   "source": [
    "input_directory = \"Sample AOI\"\n",
    "output_directory = \"Sample CEO Project Files\""
   ]
  },
  {
   "cell_type": "code",
   "execution_count": 4,
   "id": "84fa4851",
   "metadata": {},
   "outputs": [
    {
     "data": {
      "text/plain": [
       "['Matteo Kimura_AOI Points_37.8651, -119.5383_2021-11-26 19_46_48.csv',\n",
       " 'Peder Nelson_AOI Points_34.0522, -118.2437_2021-11-26 19_45_47.csv',\n",
       " 'Rusty Low_AOI Points_40.3428, -105.6836_2021-11-26 19_47_22.csv']"
      ]
     },
     "execution_count": 4,
     "metadata": {},
     "output_type": "execute_result"
    }
   ],
   "source": [
    "files = [file for file in os.listdir(input_directory) if file.endswith(\".csv\")]\n",
    "files"
   ]
  },
  {
   "cell_type": "code",
   "execution_count": 7,
   "id": "27a63e25",
   "metadata": {},
   "outputs": [],
   "source": [
    "points_df = pd.DataFrame()\n",
    "aoi_df = pd.DataFrame()\n",
    "for i, filename in enumerate(files):\n",
    "    name = filename.split(\"_\")[0]\n",
    "    aoi = pd.DataFrame()\n",
    "    \n",
    "    grid = pd.read_csv(f\"{input_directory}/{filename}\")\n",
    "    try:\n",
    "        plot_id = [j + 100 * i for j in range(37)]\n",
    "        grid[\"PLOTID\"] = plot_id\n",
    "        aoi[\"PLOTID\"] = plot_id\n",
    "        aoi[\"Name\"] = name\n",
    "    except ValueError:\n",
    "        print(f\"{filename} failed\")\n",
    "        continue\n",
    "    points_df = points_df.append(grid, ignore_index=True)\n",
    "    aoi_df = aoi_df.append(aoi, ignore_index=True)\n",
    "\n",
    "# Convert into CEO Format\n",
    "points = points_df[[\"PLOTID\", \"Longitude\", \"Latitude\"]]\n",
    "points = points.fillna(0.0)\n",
    "points.rename({\"Latitude\" : \"LAT\", \"Longitude\" : \"LON\"}, inplace=True, axis=1)"
   ]
  },
  {
   "cell_type": "markdown",
   "id": "8bd3cf08-b243-4e2e-946f-fdd85603df25",
   "metadata": {},
   "source": [
    "# Display Table Preview\n",
    "\n",
    "Displays the tables for the CEO file and the Plot assignment file"
   ]
  },
  {
   "cell_type": "code",
   "execution_count": 8,
   "id": "1118b665-57dd-499c-b26a-2200263cd542",
   "metadata": {},
   "outputs": [
    {
     "data": {
      "text/html": [
       "<div>\n",
       "<style scoped>\n",
       "    .dataframe tbody tr th:only-of-type {\n",
       "        vertical-align: middle;\n",
       "    }\n",
       "\n",
       "    .dataframe tbody tr th {\n",
       "        vertical-align: top;\n",
       "    }\n",
       "\n",
       "    .dataframe thead th {\n",
       "        text-align: right;\n",
       "    }\n",
       "</style>\n",
       "<table border=\"1\" class=\"dataframe\">\n",
       "  <thead>\n",
       "    <tr style=\"text-align: right;\">\n",
       "      <th></th>\n",
       "      <th>PLOTID</th>\n",
       "      <th>LON</th>\n",
       "      <th>LAT</th>\n",
       "    </tr>\n",
       "  </thead>\n",
       "  <tbody>\n",
       "    <tr>\n",
       "      <th>0</th>\n",
       "      <td>0</td>\n",
       "      <td>-119.538300</td>\n",
       "      <td>37.865100</td>\n",
       "    </tr>\n",
       "    <tr>\n",
       "      <th>1</th>\n",
       "      <td>1</td>\n",
       "      <td>-119.552540</td>\n",
       "      <td>37.876342</td>\n",
       "    </tr>\n",
       "    <tr>\n",
       "      <th>2</th>\n",
       "      <td>2</td>\n",
       "      <td>-119.546844</td>\n",
       "      <td>37.876342</td>\n",
       "    </tr>\n",
       "    <tr>\n",
       "      <th>3</th>\n",
       "      <td>3</td>\n",
       "      <td>-119.541148</td>\n",
       "      <td>37.876342</td>\n",
       "    </tr>\n",
       "    <tr>\n",
       "      <th>4</th>\n",
       "      <td>4</td>\n",
       "      <td>-119.535452</td>\n",
       "      <td>37.876342</td>\n",
       "    </tr>\n",
       "    <tr>\n",
       "      <th>...</th>\n",
       "      <td>...</td>\n",
       "      <td>...</td>\n",
       "      <td>...</td>\n",
       "    </tr>\n",
       "    <tr>\n",
       "      <th>106</th>\n",
       "      <td>232</td>\n",
       "      <td>-105.692449</td>\n",
       "      <td>40.331558</td>\n",
       "    </tr>\n",
       "    <tr>\n",
       "      <th>107</th>\n",
       "      <td>233</td>\n",
       "      <td>-105.686550</td>\n",
       "      <td>40.331558</td>\n",
       "    </tr>\n",
       "    <tr>\n",
       "      <th>108</th>\n",
       "      <td>234</td>\n",
       "      <td>-105.680650</td>\n",
       "      <td>40.331558</td>\n",
       "    </tr>\n",
       "    <tr>\n",
       "      <th>109</th>\n",
       "      <td>235</td>\n",
       "      <td>-105.674751</td>\n",
       "      <td>40.331558</td>\n",
       "    </tr>\n",
       "    <tr>\n",
       "      <th>110</th>\n",
       "      <td>236</td>\n",
       "      <td>-105.668851</td>\n",
       "      <td>40.331558</td>\n",
       "    </tr>\n",
       "  </tbody>\n",
       "</table>\n",
       "<p>111 rows × 3 columns</p>\n",
       "</div>"
      ],
      "text/plain": [
       "     PLOTID         LON        LAT\n",
       "0         0 -119.538300  37.865100\n",
       "1         1 -119.552540  37.876342\n",
       "2         2 -119.546844  37.876342\n",
       "3         3 -119.541148  37.876342\n",
       "4         4 -119.535452  37.876342\n",
       "..      ...         ...        ...\n",
       "106     232 -105.692449  40.331558\n",
       "107     233 -105.686550  40.331558\n",
       "108     234 -105.680650  40.331558\n",
       "109     235 -105.674751  40.331558\n",
       "110     236 -105.668851  40.331558\n",
       "\n",
       "[111 rows x 3 columns]"
      ]
     },
     "execution_count": 8,
     "metadata": {},
     "output_type": "execute_result"
    }
   ],
   "source": [
    "points"
   ]
  },
  {
   "cell_type": "code",
   "execution_count": 9,
   "id": "4a2a5bec",
   "metadata": {},
   "outputs": [
    {
     "data": {
      "text/html": [
       "<div>\n",
       "<style scoped>\n",
       "    .dataframe tbody tr th:only-of-type {\n",
       "        vertical-align: middle;\n",
       "    }\n",
       "\n",
       "    .dataframe tbody tr th {\n",
       "        vertical-align: top;\n",
       "    }\n",
       "\n",
       "    .dataframe thead th {\n",
       "        text-align: right;\n",
       "    }\n",
       "</style>\n",
       "<table border=\"1\" class=\"dataframe\">\n",
       "  <thead>\n",
       "    <tr style=\"text-align: right;\">\n",
       "      <th></th>\n",
       "      <th>PLOTID</th>\n",
       "      <th>Name</th>\n",
       "    </tr>\n",
       "  </thead>\n",
       "  <tbody>\n",
       "    <tr>\n",
       "      <th>0</th>\n",
       "      <td>0</td>\n",
       "      <td>Matteo Kimura</td>\n",
       "    </tr>\n",
       "    <tr>\n",
       "      <th>1</th>\n",
       "      <td>1</td>\n",
       "      <td>Matteo Kimura</td>\n",
       "    </tr>\n",
       "    <tr>\n",
       "      <th>2</th>\n",
       "      <td>2</td>\n",
       "      <td>Matteo Kimura</td>\n",
       "    </tr>\n",
       "    <tr>\n",
       "      <th>3</th>\n",
       "      <td>3</td>\n",
       "      <td>Matteo Kimura</td>\n",
       "    </tr>\n",
       "    <tr>\n",
       "      <th>4</th>\n",
       "      <td>4</td>\n",
       "      <td>Matteo Kimura</td>\n",
       "    </tr>\n",
       "    <tr>\n",
       "      <th>...</th>\n",
       "      <td>...</td>\n",
       "      <td>...</td>\n",
       "    </tr>\n",
       "    <tr>\n",
       "      <th>106</th>\n",
       "      <td>232</td>\n",
       "      <td>Rusty Low</td>\n",
       "    </tr>\n",
       "    <tr>\n",
       "      <th>107</th>\n",
       "      <td>233</td>\n",
       "      <td>Rusty Low</td>\n",
       "    </tr>\n",
       "    <tr>\n",
       "      <th>108</th>\n",
       "      <td>234</td>\n",
       "      <td>Rusty Low</td>\n",
       "    </tr>\n",
       "    <tr>\n",
       "      <th>109</th>\n",
       "      <td>235</td>\n",
       "      <td>Rusty Low</td>\n",
       "    </tr>\n",
       "    <tr>\n",
       "      <th>110</th>\n",
       "      <td>236</td>\n",
       "      <td>Rusty Low</td>\n",
       "    </tr>\n",
       "  </tbody>\n",
       "</table>\n",
       "<p>111 rows × 2 columns</p>\n",
       "</div>"
      ],
      "text/plain": [
       "     PLOTID           Name\n",
       "0         0  Matteo Kimura\n",
       "1         1  Matteo Kimura\n",
       "2         2  Matteo Kimura\n",
       "3         3  Matteo Kimura\n",
       "4         4  Matteo Kimura\n",
       "..      ...            ...\n",
       "106     232      Rusty Low\n",
       "107     233      Rusty Low\n",
       "108     234      Rusty Low\n",
       "109     235      Rusty Low\n",
       "110     236      Rusty Low\n",
       "\n",
       "[111 rows x 2 columns]"
      ]
     },
     "execution_count": 9,
     "metadata": {},
     "output_type": "execute_result"
    }
   ],
   "source": [
    "aoi_df"
   ]
  },
  {
   "cell_type": "markdown",
   "id": "a5e2b907-7ee7-4984-a730-5c5548cd9239",
   "metadata": {},
   "source": [
    "# Output Files\n",
    "\n",
    "Run this cell to create the following files:\n",
    "- `CEO Points.csv`: The file that is supposed to be uploaded to CollectEarthOnline\n",
    "- `Plot Assignments.csv`: A CSV file containing the CEO plot ids along with the person who should identify them"
   ]
  },
  {
   "cell_type": "code",
   "execution_count": 10,
   "id": "bac35d8f",
   "metadata": {},
   "outputs": [],
   "source": [
    "if not os.path.exists(output_directory):\n",
    "    os.makedirs(output_directory)\n",
    "\n",
    "points.to_csv(f\"{output_directory}/CEO Points.csv\", index=False)\n",
    "aoi_df.to_csv(f\"{output_directory}/Plot Assignments.csv\", index=False)"
   ]
  }
 ],
 "metadata": {
  "kernelspec": {
   "display_name": "Python 3 (ipykernel)",
   "language": "python",
   "name": "python3"
  },
  "language_info": {
   "codemirror_mode": {
    "name": "ipython",
    "version": 3
   },
   "file_extension": ".py",
   "mimetype": "text/x-python",
   "name": "python",
   "nbconvert_exporter": "python",
   "pygments_lexer": "ipython3",
   "version": "3.9.7"
  }
 },
 "nbformat": 4,
 "nbformat_minor": 5
}
