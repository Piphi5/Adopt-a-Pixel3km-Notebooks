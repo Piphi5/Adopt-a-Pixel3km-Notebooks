{
 "cells": [
  {
   "cell_type": "markdown",
   "metadata": {},
   "source": [
    "[![Open In Colab](https://colab.research.google.com/assets/colab-badge.svg)](https://colab.research.google.com/github/Piphi5/Adopt-a-Pixel3km-Notebooks/blob/main/AOI%20Generation/AOI%20Generation.ipynb)"
   ]
  },
  {
   "cell_type": "markdown",
   "metadata": {
    "id": "h3_0Qim_Jj1t"
   },
   "source": [
    "# Specify Center Coordinates\n",
    "\n",
    "Put your latitude and longitude here. It is recommended that you utilize Google Maps to find the coordinates of the desired starting point."
   ]
  },
  {
   "cell_type": "code",
   "execution_count": 1,
   "metadata": {
    "executionInfo": {
     "elapsed": 112,
     "status": "ok",
     "timestamp": 1637957627773,
     "user": {
      "displayName": "Matteo Kimura",
      "photoUrl": "https://lh3.googleusercontent.com/a-/AOh14GjAExDbP3WbRu4-eOb273MU3HyBMdKpfMMfgjjXjf0=s64",
      "userId": "12150008399402690040"
     },
     "user_tz": 360
    },
    "id": "INgfWVVgGRma"
   },
   "outputs": [],
   "source": [
    "centerlat = 40.3428\n",
    "centerlon = -105.6836\n",
    "name = \"Matteo Kimura\""
   ]
  },
  {
   "cell_type": "markdown",
   "metadata": {
    "id": "pMRElu4fJkv0",
    "tags": []
   },
   "source": [
    "# Generate Points\n",
    "\n",
    "Running the cell will generate the AOI Grid points."
   ]
  },
  {
   "cell_type": "code",
   "execution_count": 2,
   "metadata": {},
   "outputs": [],
   "source": [
    "import requests\n",
    "url = \"https://raw.githubusercontent.com/Piphi5/Adopt-a-Pixel3km-Notebooks/main/utils/code/grid_constants.py\"\n",
    "exec(requests.get(url).text)"
   ]
  },
  {
   "cell_type": "code",
   "execution_count": 3,
   "metadata": {
    "executionInfo": {
     "elapsed": 407,
     "status": "ok",
     "timestamp": 1637957629612,
     "user": {
      "displayName": "Matteo Kimura",
      "photoUrl": "https://lh3.googleusercontent.com/a-/AOh14GjAExDbP3WbRu4-eOb273MU3HyBMdKpfMMfgjjXjf0=s64",
      "userId": "12150008399402690040"
     },
     "user_tz": 360
    },
    "id": "m58bT4OLGVxp"
   },
   "outputs": [],
   "source": [
    "import folium\n",
    "import pandas as pd\n",
    "\n",
    "latitude_const, longitude_const = get_latlon_constants(500, centerlat) \n",
    "# Create folium visualization map\n",
    "m = folium.Map(location=[centerlat, centerlon], zoom_start=15)\n",
    "\n",
    "# List that will store all grid points\n",
    "mapper_coordinates = []\n",
    "    \n",
    "# Add center point \n",
    "mapper_coordinates.append([centerlat, centerlon])\n",
    "\n",
    "# Find the top left grid point by going 1250m N and 1250m W\n",
    "top_left_lat = centerlat + 5/2 * latitude_const\n",
    "top_left_lon = centerlon - 5/2 * longitude_const \n",
    "    \n",
    "# generates points and adds to list\n",
    "for i in range(6):\n",
    "    for j in range(6):\n",
    "        latitude = top_left_lat - i * latitude_const\n",
    "        longitude = top_left_lon + j * longitude_const \n",
    "        mapper_coordinates.append([latitude, longitude])\n",
    "\n",
    "\n",
    "for point in mapper_coordinates:\n",
    "    folium.Marker(point).add_to(m)\n",
    "    "
   ]
  },
  {
   "cell_type": "markdown",
   "metadata": {
    "id": "rv4m96hwJlTi"
   },
   "source": [
    "# Visualize the points\n",
    "\n",
    "After generating the points from the previous cell, run the following cell to put your AOI grid points onto an interactive map."
   ]
  },
  {
   "cell_type": "code",
   "execution_count": 4,
   "metadata": {
    "colab": {
     "base_uri": "https://localhost:8080/",
     "height": 810
    },
    "executionInfo": {
     "elapsed": 121,
     "status": "ok",
     "timestamp": 1637957630219,
     "user": {
      "displayName": "Matteo Kimura",
      "photoUrl": "https://lh3.googleusercontent.com/a-/AOh14GjAExDbP3WbRu4-eOb273MU3HyBMdKpfMMfgjjXjf0=s64",
      "userId": "12150008399402690040"
     },
     "user_tz": 360
    },
    "id": "fZmFmbD4Hu7a",
    "outputId": "b3b5b351-78bd-4695-f92b-1836b3c4979f"
   },
   "outputs": [
    {
     "data": {
      "text/html": [
       "<div style=\"width:100%;\"><div style=\"position:relative;width:100%;height:0;padding-bottom:60%;\"><span style=\"color:#565656\">Make this Notebook Trusted to load map: File -> Trust Notebook</span><iframe src=\"about:blank\" style=\"position:absolute;width:100%;height:100%;left:0;top:0;border:none !important;\" data-html=%3C%21DOCTYPE%20html%3E%0A%3Chead%3E%20%20%20%20%0A%20%20%20%20%3Cmeta%20http-equiv%3D%22content-type%22%20content%3D%22text/html%3B%20charset%3DUTF-8%22%20/%3E%0A%20%20%20%20%0A%20%20%20%20%20%20%20%20%3Cscript%3E%0A%20%20%20%20%20%20%20%20%20%20%20%20L_NO_TOUCH%20%3D%20false%3B%0A%20%20%20%20%20%20%20%20%20%20%20%20L_DISABLE_3D%20%3D%20false%3B%0A%20%20%20%20%20%20%20%20%3C/script%3E%0A%20%20%20%20%0A%20%20%20%20%3Cstyle%3Ehtml%2C%20body%20%7Bwidth%3A%20100%25%3Bheight%3A%20100%25%3Bmargin%3A%200%3Bpadding%3A%200%3B%7D%3C/style%3E%0A%20%20%20%20%3Cstyle%3E%23map%20%7Bposition%3Aabsolute%3Btop%3A0%3Bbottom%3A0%3Bright%3A0%3Bleft%3A0%3B%7D%3C/style%3E%0A%20%20%20%20%3Cscript%20src%3D%22https%3A//cdn.jsdelivr.net/npm/leaflet%401.6.0/dist/leaflet.js%22%3E%3C/script%3E%0A%20%20%20%20%3Cscript%20src%3D%22https%3A//code.jquery.com/jquery-1.12.4.min.js%22%3E%3C/script%3E%0A%20%20%20%20%3Cscript%20src%3D%22https%3A//maxcdn.bootstrapcdn.com/bootstrap/3.2.0/js/bootstrap.min.js%22%3E%3C/script%3E%0A%20%20%20%20%3Cscript%20src%3D%22https%3A//cdnjs.cloudflare.com/ajax/libs/Leaflet.awesome-markers/2.0.2/leaflet.awesome-markers.js%22%3E%3C/script%3E%0A%20%20%20%20%3Clink%20rel%3D%22stylesheet%22%20href%3D%22https%3A//cdn.jsdelivr.net/npm/leaflet%401.6.0/dist/leaflet.css%22/%3E%0A%20%20%20%20%3Clink%20rel%3D%22stylesheet%22%20href%3D%22https%3A//maxcdn.bootstrapcdn.com/bootstrap/3.2.0/css/bootstrap.min.css%22/%3E%0A%20%20%20%20%3Clink%20rel%3D%22stylesheet%22%20href%3D%22https%3A//maxcdn.bootstrapcdn.com/bootstrap/3.2.0/css/bootstrap-theme.min.css%22/%3E%0A%20%20%20%20%3Clink%20rel%3D%22stylesheet%22%20href%3D%22https%3A//maxcdn.bootstrapcdn.com/font-awesome/4.6.3/css/font-awesome.min.css%22/%3E%0A%20%20%20%20%3Clink%20rel%3D%22stylesheet%22%20href%3D%22https%3A//cdnjs.cloudflare.com/ajax/libs/Leaflet.awesome-markers/2.0.2/leaflet.awesome-markers.css%22/%3E%0A%20%20%20%20%3Clink%20rel%3D%22stylesheet%22%20href%3D%22https%3A//cdn.jsdelivr.net/gh/python-visualization/folium/folium/templates/leaflet.awesome.rotate.min.css%22/%3E%0A%20%20%20%20%0A%20%20%20%20%20%20%20%20%20%20%20%20%3Cmeta%20name%3D%22viewport%22%20content%3D%22width%3Ddevice-width%2C%0A%20%20%20%20%20%20%20%20%20%20%20%20%20%20%20%20initial-scale%3D1.0%2C%20maximum-scale%3D1.0%2C%20user-scalable%3Dno%22%20/%3E%0A%20%20%20%20%20%20%20%20%20%20%20%20%3Cstyle%3E%0A%20%20%20%20%20%20%20%20%20%20%20%20%20%20%20%20%23map_6629d93314de4a008c1676c26acfdf7f%20%7B%0A%20%20%20%20%20%20%20%20%20%20%20%20%20%20%20%20%20%20%20%20position%3A%20relative%3B%0A%20%20%20%20%20%20%20%20%20%20%20%20%20%20%20%20%20%20%20%20width%3A%20100.0%25%3B%0A%20%20%20%20%20%20%20%20%20%20%20%20%20%20%20%20%20%20%20%20height%3A%20100.0%25%3B%0A%20%20%20%20%20%20%20%20%20%20%20%20%20%20%20%20%20%20%20%20left%3A%200.0%25%3B%0A%20%20%20%20%20%20%20%20%20%20%20%20%20%20%20%20%20%20%20%20top%3A%200.0%25%3B%0A%20%20%20%20%20%20%20%20%20%20%20%20%20%20%20%20%7D%0A%20%20%20%20%20%20%20%20%20%20%20%20%3C/style%3E%0A%20%20%20%20%20%20%20%20%0A%3C/head%3E%0A%3Cbody%3E%20%20%20%20%0A%20%20%20%20%0A%20%20%20%20%20%20%20%20%20%20%20%20%3Cdiv%20class%3D%22folium-map%22%20id%3D%22map_6629d93314de4a008c1676c26acfdf7f%22%20%3E%3C/div%3E%0A%20%20%20%20%20%20%20%20%0A%3C/body%3E%0A%3Cscript%3E%20%20%20%20%0A%20%20%20%20%0A%20%20%20%20%20%20%20%20%20%20%20%20var%20map_6629d93314de4a008c1676c26acfdf7f%20%3D%20L.map%28%0A%20%20%20%20%20%20%20%20%20%20%20%20%20%20%20%20%22map_6629d93314de4a008c1676c26acfdf7f%22%2C%0A%20%20%20%20%20%20%20%20%20%20%20%20%20%20%20%20%7B%0A%20%20%20%20%20%20%20%20%20%20%20%20%20%20%20%20%20%20%20%20center%3A%20%5B40.3428%2C%20-105.6836%5D%2C%0A%20%20%20%20%20%20%20%20%20%20%20%20%20%20%20%20%20%20%20%20crs%3A%20L.CRS.EPSG3857%2C%0A%20%20%20%20%20%20%20%20%20%20%20%20%20%20%20%20%20%20%20%20zoom%3A%2015%2C%0A%20%20%20%20%20%20%20%20%20%20%20%20%20%20%20%20%20%20%20%20zoomControl%3A%20true%2C%0A%20%20%20%20%20%20%20%20%20%20%20%20%20%20%20%20%20%20%20%20preferCanvas%3A%20false%2C%0A%20%20%20%20%20%20%20%20%20%20%20%20%20%20%20%20%7D%0A%20%20%20%20%20%20%20%20%20%20%20%20%29%3B%0A%0A%20%20%20%20%20%20%20%20%20%20%20%20%0A%0A%20%20%20%20%20%20%20%20%0A%20%20%20%20%0A%20%20%20%20%20%20%20%20%20%20%20%20var%20tile_layer_f67a970168e2486ab56ef1234108fe1e%20%3D%20L.tileLayer%28%0A%20%20%20%20%20%20%20%20%20%20%20%20%20%20%20%20%22https%3A//%7Bs%7D.tile.openstreetmap.org/%7Bz%7D/%7Bx%7D/%7By%7D.png%22%2C%0A%20%20%20%20%20%20%20%20%20%20%20%20%20%20%20%20%7B%22attribution%22%3A%20%22Data%20by%20%5Cu0026copy%3B%20%5Cu003ca%20href%3D%5C%22http%3A//openstreetmap.org%5C%22%5Cu003eOpenStreetMap%5Cu003c/a%5Cu003e%2C%20under%20%5Cu003ca%20href%3D%5C%22http%3A//www.openstreetmap.org/copyright%5C%22%5Cu003eODbL%5Cu003c/a%5Cu003e.%22%2C%20%22detectRetina%22%3A%20false%2C%20%22maxNativeZoom%22%3A%2018%2C%20%22maxZoom%22%3A%2018%2C%20%22minZoom%22%3A%200%2C%20%22noWrap%22%3A%20false%2C%20%22opacity%22%3A%201%2C%20%22subdomains%22%3A%20%22abc%22%2C%20%22tms%22%3A%20false%7D%0A%20%20%20%20%20%20%20%20%20%20%20%20%29.addTo%28map_6629d93314de4a008c1676c26acfdf7f%29%3B%0A%20%20%20%20%20%20%20%20%0A%20%20%20%20%0A%20%20%20%20%20%20%20%20%20%20%20%20var%20marker_2dea3518a27445349975324d13b418e6%20%3D%20L.marker%28%0A%20%20%20%20%20%20%20%20%20%20%20%20%20%20%20%20%5B40.3428%2C%20-105.6836%5D%2C%0A%20%20%20%20%20%20%20%20%20%20%20%20%20%20%20%20%7B%7D%0A%20%20%20%20%20%20%20%20%20%20%20%20%29.addTo%28map_6629d93314de4a008c1676c26acfdf7f%29%3B%0A%20%20%20%20%20%20%20%20%0A%20%20%20%20%0A%20%20%20%20%20%20%20%20%20%20%20%20var%20marker_e7ed711118e746b88bf9298c7b25021d%20%3D%20L.marker%28%0A%20%20%20%20%20%20%20%20%20%20%20%20%20%20%20%20%5B40.354041520073984%2C%20-105.6983490708965%5D%2C%0A%20%20%20%20%20%20%20%20%20%20%20%20%20%20%20%20%7B%7D%0A%20%20%20%20%20%20%20%20%20%20%20%20%29.addTo%28map_6629d93314de4a008c1676c26acfdf7f%29%3B%0A%20%20%20%20%20%20%20%20%0A%20%20%20%20%0A%20%20%20%20%20%20%20%20%20%20%20%20var%20marker_50af7a0d9f6c4ebfac4e5b884ff15ab8%20%3D%20L.marker%28%0A%20%20%20%20%20%20%20%20%20%20%20%20%20%20%20%20%5B40.354041520073984%2C%20-105.69244944253789%5D%2C%0A%20%20%20%20%20%20%20%20%20%20%20%20%20%20%20%20%7B%7D%0A%20%20%20%20%20%20%20%20%20%20%20%20%29.addTo%28map_6629d93314de4a008c1676c26acfdf7f%29%3B%0A%20%20%20%20%20%20%20%20%0A%20%20%20%20%0A%20%20%20%20%20%20%20%20%20%20%20%20var%20marker_cee929a327214aed8f6f4db956a00898%20%3D%20L.marker%28%0A%20%20%20%20%20%20%20%20%20%20%20%20%20%20%20%20%5B40.354041520073984%2C%20-105.6865498141793%5D%2C%0A%20%20%20%20%20%20%20%20%20%20%20%20%20%20%20%20%7B%7D%0A%20%20%20%20%20%20%20%20%20%20%20%20%29.addTo%28map_6629d93314de4a008c1676c26acfdf7f%29%3B%0A%20%20%20%20%20%20%20%20%0A%20%20%20%20%0A%20%20%20%20%20%20%20%20%20%20%20%20var%20marker_41718f086b7146e6a47295994fda6430%20%3D%20L.marker%28%0A%20%20%20%20%20%20%20%20%20%20%20%20%20%20%20%20%5B40.354041520073984%2C%20-105.6806501858207%5D%2C%0A%20%20%20%20%20%20%20%20%20%20%20%20%20%20%20%20%7B%7D%0A%20%20%20%20%20%20%20%20%20%20%20%20%29.addTo%28map_6629d93314de4a008c1676c26acfdf7f%29%3B%0A%20%20%20%20%20%20%20%20%0A%20%20%20%20%0A%20%20%20%20%20%20%20%20%20%20%20%20var%20marker_a6d47ff23c7d4d4fbe2eb222b42862ef%20%3D%20L.marker%28%0A%20%20%20%20%20%20%20%20%20%20%20%20%20%20%20%20%5B40.354041520073984%2C%20-105.67475055746209%5D%2C%0A%20%20%20%20%20%20%20%20%20%20%20%20%20%20%20%20%7B%7D%0A%20%20%20%20%20%20%20%20%20%20%20%20%29.addTo%28map_6629d93314de4a008c1676c26acfdf7f%29%3B%0A%20%20%20%20%20%20%20%20%0A%20%20%20%20%0A%20%20%20%20%20%20%20%20%20%20%20%20var%20marker_dc9607610e3b492ea0a9b178aa95c7b0%20%3D%20L.marker%28%0A%20%20%20%20%20%20%20%20%20%20%20%20%20%20%20%20%5B40.354041520073984%2C%20-105.6688509291035%5D%2C%0A%20%20%20%20%20%20%20%20%20%20%20%20%20%20%20%20%7B%7D%0A%20%20%20%20%20%20%20%20%20%20%20%20%29.addTo%28map_6629d93314de4a008c1676c26acfdf7f%29%3B%0A%20%20%20%20%20%20%20%20%0A%20%20%20%20%0A%20%20%20%20%20%20%20%20%20%20%20%20var%20marker_4a08679981b941b8897b54c17d67a9ac%20%3D%20L.marker%28%0A%20%20%20%20%20%20%20%20%20%20%20%20%20%20%20%20%5B40.349544912044394%2C%20-105.6983490708965%5D%2C%0A%20%20%20%20%20%20%20%20%20%20%20%20%20%20%20%20%7B%7D%0A%20%20%20%20%20%20%20%20%20%20%20%20%29.addTo%28map_6629d93314de4a008c1676c26acfdf7f%29%3B%0A%20%20%20%20%20%20%20%20%0A%20%20%20%20%0A%20%20%20%20%20%20%20%20%20%20%20%20var%20marker_38911335d2e6452da49352a6e60e6db7%20%3D%20L.marker%28%0A%20%20%20%20%20%20%20%20%20%20%20%20%20%20%20%20%5B40.349544912044394%2C%20-105.69244944253789%5D%2C%0A%20%20%20%20%20%20%20%20%20%20%20%20%20%20%20%20%7B%7D%0A%20%20%20%20%20%20%20%20%20%20%20%20%29.addTo%28map_6629d93314de4a008c1676c26acfdf7f%29%3B%0A%20%20%20%20%20%20%20%20%0A%20%20%20%20%0A%20%20%20%20%20%20%20%20%20%20%20%20var%20marker_b96a0fccfe134056a08bf2ed6c22c0c0%20%3D%20L.marker%28%0A%20%20%20%20%20%20%20%20%20%20%20%20%20%20%20%20%5B40.349544912044394%2C%20-105.6865498141793%5D%2C%0A%20%20%20%20%20%20%20%20%20%20%20%20%20%20%20%20%7B%7D%0A%20%20%20%20%20%20%20%20%20%20%20%20%29.addTo%28map_6629d93314de4a008c1676c26acfdf7f%29%3B%0A%20%20%20%20%20%20%20%20%0A%20%20%20%20%0A%20%20%20%20%20%20%20%20%20%20%20%20var%20marker_aeb04055d56f4320a8e4a405d92eb94e%20%3D%20L.marker%28%0A%20%20%20%20%20%20%20%20%20%20%20%20%20%20%20%20%5B40.349544912044394%2C%20-105.6806501858207%5D%2C%0A%20%20%20%20%20%20%20%20%20%20%20%20%20%20%20%20%7B%7D%0A%20%20%20%20%20%20%20%20%20%20%20%20%29.addTo%28map_6629d93314de4a008c1676c26acfdf7f%29%3B%0A%20%20%20%20%20%20%20%20%0A%20%20%20%20%0A%20%20%20%20%20%20%20%20%20%20%20%20var%20marker_796dc41d09bc422d8b85582f4dca75fb%20%3D%20L.marker%28%0A%20%20%20%20%20%20%20%20%20%20%20%20%20%20%20%20%5B40.349544912044394%2C%20-105.67475055746209%5D%2C%0A%20%20%20%20%20%20%20%20%20%20%20%20%20%20%20%20%7B%7D%0A%20%20%20%20%20%20%20%20%20%20%20%20%29.addTo%28map_6629d93314de4a008c1676c26acfdf7f%29%3B%0A%20%20%20%20%20%20%20%20%0A%20%20%20%20%0A%20%20%20%20%20%20%20%20%20%20%20%20var%20marker_1eb134889098404faac5af476204c413%20%3D%20L.marker%28%0A%20%20%20%20%20%20%20%20%20%20%20%20%20%20%20%20%5B40.349544912044394%2C%20-105.6688509291035%5D%2C%0A%20%20%20%20%20%20%20%20%20%20%20%20%20%20%20%20%7B%7D%0A%20%20%20%20%20%20%20%20%20%20%20%20%29.addTo%28map_6629d93314de4a008c1676c26acfdf7f%29%3B%0A%20%20%20%20%20%20%20%20%0A%20%20%20%20%0A%20%20%20%20%20%20%20%20%20%20%20%20var%20marker_e84346ac79f544f5bc3f85076f8cc8f3%20%3D%20L.marker%28%0A%20%20%20%20%20%20%20%20%20%20%20%20%20%20%20%20%5B40.345048304014796%2C%20-105.6983490708965%5D%2C%0A%20%20%20%20%20%20%20%20%20%20%20%20%20%20%20%20%7B%7D%0A%20%20%20%20%20%20%20%20%20%20%20%20%29.addTo%28map_6629d93314de4a008c1676c26acfdf7f%29%3B%0A%20%20%20%20%20%20%20%20%0A%20%20%20%20%0A%20%20%20%20%20%20%20%20%20%20%20%20var%20marker_7ad20c80cf0249b9a9d559dc07be3448%20%3D%20L.marker%28%0A%20%20%20%20%20%20%20%20%20%20%20%20%20%20%20%20%5B40.345048304014796%2C%20-105.69244944253789%5D%2C%0A%20%20%20%20%20%20%20%20%20%20%20%20%20%20%20%20%7B%7D%0A%20%20%20%20%20%20%20%20%20%20%20%20%29.addTo%28map_6629d93314de4a008c1676c26acfdf7f%29%3B%0A%20%20%20%20%20%20%20%20%0A%20%20%20%20%0A%20%20%20%20%20%20%20%20%20%20%20%20var%20marker_340f8da1d2ac4d84a844c32de608bc24%20%3D%20L.marker%28%0A%20%20%20%20%20%20%20%20%20%20%20%20%20%20%20%20%5B40.345048304014796%2C%20-105.6865498141793%5D%2C%0A%20%20%20%20%20%20%20%20%20%20%20%20%20%20%20%20%7B%7D%0A%20%20%20%20%20%20%20%20%20%20%20%20%29.addTo%28map_6629d93314de4a008c1676c26acfdf7f%29%3B%0A%20%20%20%20%20%20%20%20%0A%20%20%20%20%0A%20%20%20%20%20%20%20%20%20%20%20%20var%20marker_5ec8b8bb5e984edd962cb829de203946%20%3D%20L.marker%28%0A%20%20%20%20%20%20%20%20%20%20%20%20%20%20%20%20%5B40.345048304014796%2C%20-105.6806501858207%5D%2C%0A%20%20%20%20%20%20%20%20%20%20%20%20%20%20%20%20%7B%7D%0A%20%20%20%20%20%20%20%20%20%20%20%20%29.addTo%28map_6629d93314de4a008c1676c26acfdf7f%29%3B%0A%20%20%20%20%20%20%20%20%0A%20%20%20%20%0A%20%20%20%20%20%20%20%20%20%20%20%20var%20marker_c82f31c95e0f4d8c8ad0bb216e8120b8%20%3D%20L.marker%28%0A%20%20%20%20%20%20%20%20%20%20%20%20%20%20%20%20%5B40.345048304014796%2C%20-105.67475055746209%5D%2C%0A%20%20%20%20%20%20%20%20%20%20%20%20%20%20%20%20%7B%7D%0A%20%20%20%20%20%20%20%20%20%20%20%20%29.addTo%28map_6629d93314de4a008c1676c26acfdf7f%29%3B%0A%20%20%20%20%20%20%20%20%0A%20%20%20%20%0A%20%20%20%20%20%20%20%20%20%20%20%20var%20marker_a2657adfd3d7477fadd497cf610f8c74%20%3D%20L.marker%28%0A%20%20%20%20%20%20%20%20%20%20%20%20%20%20%20%20%5B40.345048304014796%2C%20-105.6688509291035%5D%2C%0A%20%20%20%20%20%20%20%20%20%20%20%20%20%20%20%20%7B%7D%0A%20%20%20%20%20%20%20%20%20%20%20%20%29.addTo%28map_6629d93314de4a008c1676c26acfdf7f%29%3B%0A%20%20%20%20%20%20%20%20%0A%20%20%20%20%0A%20%20%20%20%20%20%20%20%20%20%20%20var%20marker_6bffcde9ca054197b89edee5ee42a07d%20%3D%20L.marker%28%0A%20%20%20%20%20%20%20%20%20%20%20%20%20%20%20%20%5B40.340551695985205%2C%20-105.6983490708965%5D%2C%0A%20%20%20%20%20%20%20%20%20%20%20%20%20%20%20%20%7B%7D%0A%20%20%20%20%20%20%20%20%20%20%20%20%29.addTo%28map_6629d93314de4a008c1676c26acfdf7f%29%3B%0A%20%20%20%20%20%20%20%20%0A%20%20%20%20%0A%20%20%20%20%20%20%20%20%20%20%20%20var%20marker_8a40a170cabd43ba81ab222c9d61ebfe%20%3D%20L.marker%28%0A%20%20%20%20%20%20%20%20%20%20%20%20%20%20%20%20%5B40.340551695985205%2C%20-105.69244944253789%5D%2C%0A%20%20%20%20%20%20%20%20%20%20%20%20%20%20%20%20%7B%7D%0A%20%20%20%20%20%20%20%20%20%20%20%20%29.addTo%28map_6629d93314de4a008c1676c26acfdf7f%29%3B%0A%20%20%20%20%20%20%20%20%0A%20%20%20%20%0A%20%20%20%20%20%20%20%20%20%20%20%20var%20marker_ef55b1b6838b41de81aaf2dcd3aa944e%20%3D%20L.marker%28%0A%20%20%20%20%20%20%20%20%20%20%20%20%20%20%20%20%5B40.340551695985205%2C%20-105.6865498141793%5D%2C%0A%20%20%20%20%20%20%20%20%20%20%20%20%20%20%20%20%7B%7D%0A%20%20%20%20%20%20%20%20%20%20%20%20%29.addTo%28map_6629d93314de4a008c1676c26acfdf7f%29%3B%0A%20%20%20%20%20%20%20%20%0A%20%20%20%20%0A%20%20%20%20%20%20%20%20%20%20%20%20var%20marker_d7a84c71747f44e4945796fe84904d3c%20%3D%20L.marker%28%0A%20%20%20%20%20%20%20%20%20%20%20%20%20%20%20%20%5B40.340551695985205%2C%20-105.6806501858207%5D%2C%0A%20%20%20%20%20%20%20%20%20%20%20%20%20%20%20%20%7B%7D%0A%20%20%20%20%20%20%20%20%20%20%20%20%29.addTo%28map_6629d93314de4a008c1676c26acfdf7f%29%3B%0A%20%20%20%20%20%20%20%20%0A%20%20%20%20%0A%20%20%20%20%20%20%20%20%20%20%20%20var%20marker_57763f7a33e947c2b933eb94e2bed247%20%3D%20L.marker%28%0A%20%20%20%20%20%20%20%20%20%20%20%20%20%20%20%20%5B40.340551695985205%2C%20-105.67475055746209%5D%2C%0A%20%20%20%20%20%20%20%20%20%20%20%20%20%20%20%20%7B%7D%0A%20%20%20%20%20%20%20%20%20%20%20%20%29.addTo%28map_6629d93314de4a008c1676c26acfdf7f%29%3B%0A%20%20%20%20%20%20%20%20%0A%20%20%20%20%0A%20%20%20%20%20%20%20%20%20%20%20%20var%20marker_0e9c66a020fa49f19004aa8db36e0133%20%3D%20L.marker%28%0A%20%20%20%20%20%20%20%20%20%20%20%20%20%20%20%20%5B40.340551695985205%2C%20-105.6688509291035%5D%2C%0A%20%20%20%20%20%20%20%20%20%20%20%20%20%20%20%20%7B%7D%0A%20%20%20%20%20%20%20%20%20%20%20%20%29.addTo%28map_6629d93314de4a008c1676c26acfdf7f%29%3B%0A%20%20%20%20%20%20%20%20%0A%20%20%20%20%0A%20%20%20%20%20%20%20%20%20%20%20%20var%20marker_6793108ebab54f4a96fba712f9c42efd%20%3D%20L.marker%28%0A%20%20%20%20%20%20%20%20%20%20%20%20%20%20%20%20%5B40.33605508795561%2C%20-105.6983490708965%5D%2C%0A%20%20%20%20%20%20%20%20%20%20%20%20%20%20%20%20%7B%7D%0A%20%20%20%20%20%20%20%20%20%20%20%20%29.addTo%28map_6629d93314de4a008c1676c26acfdf7f%29%3B%0A%20%20%20%20%20%20%20%20%0A%20%20%20%20%0A%20%20%20%20%20%20%20%20%20%20%20%20var%20marker_3f2e278427d048659d0cfd250714a844%20%3D%20L.marker%28%0A%20%20%20%20%20%20%20%20%20%20%20%20%20%20%20%20%5B40.33605508795561%2C%20-105.69244944253789%5D%2C%0A%20%20%20%20%20%20%20%20%20%20%20%20%20%20%20%20%7B%7D%0A%20%20%20%20%20%20%20%20%20%20%20%20%29.addTo%28map_6629d93314de4a008c1676c26acfdf7f%29%3B%0A%20%20%20%20%20%20%20%20%0A%20%20%20%20%0A%20%20%20%20%20%20%20%20%20%20%20%20var%20marker_6e56e3b7bb9c4a61b84424314f418d2f%20%3D%20L.marker%28%0A%20%20%20%20%20%20%20%20%20%20%20%20%20%20%20%20%5B40.33605508795561%2C%20-105.6865498141793%5D%2C%0A%20%20%20%20%20%20%20%20%20%20%20%20%20%20%20%20%7B%7D%0A%20%20%20%20%20%20%20%20%20%20%20%20%29.addTo%28map_6629d93314de4a008c1676c26acfdf7f%29%3B%0A%20%20%20%20%20%20%20%20%0A%20%20%20%20%0A%20%20%20%20%20%20%20%20%20%20%20%20var%20marker_d176e616abc2497b938e14f6e4271b52%20%3D%20L.marker%28%0A%20%20%20%20%20%20%20%20%20%20%20%20%20%20%20%20%5B40.33605508795561%2C%20-105.6806501858207%5D%2C%0A%20%20%20%20%20%20%20%20%20%20%20%20%20%20%20%20%7B%7D%0A%20%20%20%20%20%20%20%20%20%20%20%20%29.addTo%28map_6629d93314de4a008c1676c26acfdf7f%29%3B%0A%20%20%20%20%20%20%20%20%0A%20%20%20%20%0A%20%20%20%20%20%20%20%20%20%20%20%20var%20marker_0ee136134a534dfd93a0f0832a377e7f%20%3D%20L.marker%28%0A%20%20%20%20%20%20%20%20%20%20%20%20%20%20%20%20%5B40.33605508795561%2C%20-105.67475055746209%5D%2C%0A%20%20%20%20%20%20%20%20%20%20%20%20%20%20%20%20%7B%7D%0A%20%20%20%20%20%20%20%20%20%20%20%20%29.addTo%28map_6629d93314de4a008c1676c26acfdf7f%29%3B%0A%20%20%20%20%20%20%20%20%0A%20%20%20%20%0A%20%20%20%20%20%20%20%20%20%20%20%20var%20marker_5d3e70f5a3b24ea0ab57fee58ff192fd%20%3D%20L.marker%28%0A%20%20%20%20%20%20%20%20%20%20%20%20%20%20%20%20%5B40.33605508795561%2C%20-105.6688509291035%5D%2C%0A%20%20%20%20%20%20%20%20%20%20%20%20%20%20%20%20%7B%7D%0A%20%20%20%20%20%20%20%20%20%20%20%20%29.addTo%28map_6629d93314de4a008c1676c26acfdf7f%29%3B%0A%20%20%20%20%20%20%20%20%0A%20%20%20%20%0A%20%20%20%20%20%20%20%20%20%20%20%20var%20marker_7f5085b350a0431690ff0ff76442adfc%20%3D%20L.marker%28%0A%20%20%20%20%20%20%20%20%20%20%20%20%20%20%20%20%5B40.33155847992602%2C%20-105.6983490708965%5D%2C%0A%20%20%20%20%20%20%20%20%20%20%20%20%20%20%20%20%7B%7D%0A%20%20%20%20%20%20%20%20%20%20%20%20%29.addTo%28map_6629d93314de4a008c1676c26acfdf7f%29%3B%0A%20%20%20%20%20%20%20%20%0A%20%20%20%20%0A%20%20%20%20%20%20%20%20%20%20%20%20var%20marker_0174810750054a0d9442b30ca41deb4f%20%3D%20L.marker%28%0A%20%20%20%20%20%20%20%20%20%20%20%20%20%20%20%20%5B40.33155847992602%2C%20-105.69244944253789%5D%2C%0A%20%20%20%20%20%20%20%20%20%20%20%20%20%20%20%20%7B%7D%0A%20%20%20%20%20%20%20%20%20%20%20%20%29.addTo%28map_6629d93314de4a008c1676c26acfdf7f%29%3B%0A%20%20%20%20%20%20%20%20%0A%20%20%20%20%0A%20%20%20%20%20%20%20%20%20%20%20%20var%20marker_efbccddebb5e453582c1465c5b05323c%20%3D%20L.marker%28%0A%20%20%20%20%20%20%20%20%20%20%20%20%20%20%20%20%5B40.33155847992602%2C%20-105.6865498141793%5D%2C%0A%20%20%20%20%20%20%20%20%20%20%20%20%20%20%20%20%7B%7D%0A%20%20%20%20%20%20%20%20%20%20%20%20%29.addTo%28map_6629d93314de4a008c1676c26acfdf7f%29%3B%0A%20%20%20%20%20%20%20%20%0A%20%20%20%20%0A%20%20%20%20%20%20%20%20%20%20%20%20var%20marker_e9a32193f74749c58640adc723963d7e%20%3D%20L.marker%28%0A%20%20%20%20%20%20%20%20%20%20%20%20%20%20%20%20%5B40.33155847992602%2C%20-105.6806501858207%5D%2C%0A%20%20%20%20%20%20%20%20%20%20%20%20%20%20%20%20%7B%7D%0A%20%20%20%20%20%20%20%20%20%20%20%20%29.addTo%28map_6629d93314de4a008c1676c26acfdf7f%29%3B%0A%20%20%20%20%20%20%20%20%0A%20%20%20%20%0A%20%20%20%20%20%20%20%20%20%20%20%20var%20marker_01b3188533814c41b377c389e1defd9c%20%3D%20L.marker%28%0A%20%20%20%20%20%20%20%20%20%20%20%20%20%20%20%20%5B40.33155847992602%2C%20-105.67475055746209%5D%2C%0A%20%20%20%20%20%20%20%20%20%20%20%20%20%20%20%20%7B%7D%0A%20%20%20%20%20%20%20%20%20%20%20%20%29.addTo%28map_6629d93314de4a008c1676c26acfdf7f%29%3B%0A%20%20%20%20%20%20%20%20%0A%20%20%20%20%0A%20%20%20%20%20%20%20%20%20%20%20%20var%20marker_214d70a2a97642dcb26777865a4531c7%20%3D%20L.marker%28%0A%20%20%20%20%20%20%20%20%20%20%20%20%20%20%20%20%5B40.33155847992602%2C%20-105.6688509291035%5D%2C%0A%20%20%20%20%20%20%20%20%20%20%20%20%20%20%20%20%7B%7D%0A%20%20%20%20%20%20%20%20%20%20%20%20%29.addTo%28map_6629d93314de4a008c1676c26acfdf7f%29%3B%0A%20%20%20%20%20%20%20%20%0A%3C/script%3E onload=\"this.contentDocument.open();this.contentDocument.write(    decodeURIComponent(this.getAttribute('data-html')));this.contentDocument.close();\" allowfullscreen webkitallowfullscreen mozallowfullscreen></iframe></div></div>"
      ],
      "text/plain": [
       "<folium.folium.Map at 0x1e5c30d1b20>"
      ]
     },
     "execution_count": 4,
     "metadata": {},
     "output_type": "execute_result"
    }
   ],
   "source": [
    "m"
   ]
  },
  {
   "cell_type": "markdown",
   "metadata": {
    "id": "LxHvV9vIJmCe"
   },
   "source": [
    "# Export to CSV\n",
    "\n",
    "Exports to a CSV with the following naming convention:`{name}_AOI_Points_{center latitude}, {center longitude}_{timestamp (YYYY-MM-DD HH:MM:SS)}.csv`. The CSV should download directly to your computer.\n",
    "\n",
    "Now you can upload this CSV file onto services like ArcGIS or Google MyMaps to help you get directions on navigating to these points.\n",
    "\n"
   ]
  },
  {
   "cell_type": "code",
   "execution_count": 5,
   "metadata": {
    "colab": {
     "base_uri": "https://localhost:8080/",
     "height": 17
    },
    "executionInfo": {
     "elapsed": 104,
     "status": "ok",
     "timestamp": 1637957633481,
     "user": {
      "displayName": "Matteo Kimura",
      "photoUrl": "https://lh3.googleusercontent.com/a-/AOh14GjAExDbP3WbRu4-eOb273MU3HyBMdKpfMMfgjjXjf0=s64",
      "userId": "12150008399402690040"
     },
     "user_tz": 360
    },
    "id": "HZAm09bQA0fJ",
    "outputId": "007458db-45ef-464c-b62e-21d1adf41300"
   },
   "outputs": [],
   "source": [
    "from datetime import datetime\n",
    "now = datetime.now()\n",
    "# creates a csv file with Latitude and Longitude for use in Google My Maps or ArcGIS\n",
    "mapper_df = pd.DataFrame(mapper_coordinates, columns = [\"Latitude\", \"Longitude\"])\n",
    "filename = f\"{name}_AOI Points_{centerlat}, {centerlon}_{now:%Y-%m-%d %H-%M-%S}.csv\"\n",
    "mapper_df.to_csv(filename)\n",
    "if 'google.colab' in str(get_ipython()):\n",
    "    from google.colab import files\n",
    "    files.download(filename)\n"
   ]
  },
  {
   "cell_type": "markdown",
   "metadata": {
    "id": "j2qMMncNAvnM"
   },
   "source": [
    "# Google MyMaps example:\n",
    "\n",
    "Go to [MyMaps](https://www.google.com/maps/d/)\n",
    "\n",
    "Then, you can create a new map:\n",
    "![Create new Map](https://github.com/Piphi5/Adopt-a-Pixel3km-Notebooks/raw/main/AOI%20Generation/Demo%20Photos/make-new-map.png)\n",
    "\n",
    "Then, you can import the CSV File through this button:\n",
    "![Import CSV](https://github.com/Piphi5/Adopt-a-Pixel3km-Notebooks/raw/main/AOI%20Generation/Demo%20Photos/select-import.png)\n",
    "\n",
    "Then, specify the latitude and longitude columns:\n",
    "\n",
    "![Specify Latlon Columns](https://github.com/Piphi5/Adopt-a-Pixel3km-Notebooks/raw/main/AOI%20Generation/Demo%20Photos/setup-columns.png)\n",
    "\n",
    "Specify the naming columns:\n",
    "\n",
    "![Specify naming Columns](https://github.com/Piphi5/Adopt-a-Pixel3km-Notebooks/raw/main/AOI%20Generation/Demo%20Photos/setup-title.png)\n",
    "\n",
    "You can now access these items on google maps on your mobile device:\n",
    "\n",
    "First, select the Saved Button:\n",
    "![Select Saved](https://github.com/Piphi5/Adopt-a-Pixel3km-Notebooks/raw/main/AOI%20Generation/Demo%20Photos/GoogleMapsSelectSaved.png)\n",
    "\n",
    "Once there, you can view the Maps button:\n",
    "![Select Maps](https://drive.google.com/uc?export=view&id=1Yy1ccqa8fIKU5YhVlrjwFSauayWUyVMs)\n",
    "\n",
    "Once there you can select your mymaps map:\n",
    "![Select Map](https://drive.google.com/uc?export=view&id=1UTUIAF224QYz9XZ10lnCg0tnl5LGayP7)\n",
    "\n",
    "Then Press on any point on the map to get directions for it:\n",
    "\n",
    "![Get Direction](https://drive.google.com/uc?export=view&id=1foVP0V6JyObjUzvLxklq5s3CJs8blbWK)\n"
   ]
  },
  {
   "cell_type": "markdown",
   "metadata": {
    "id": "vI-hdUTSKYVr",
    "tags": []
   },
   "source": [
    "## Theoretical Basis\n",
    "\n",
    "In order to generate equally spaced out grid points with a certain distance, we need to figure out constants $\\delta \\varphi$ and $\\delta \\lambda$ that can be added onto the latitude and longitude coordinates, respectively, to specify a coordinate a certain distance (e.g. 500 meters) away.\n",
    "\n",
    "### Main formula\n",
    "Utilizing the [Haversine Formula](https://en.wikipedia.org/wiki/Haversine_formula), the distance between two points on a sphere is:\n",
    "\n",
    "$d = 2r \\arcsin{\\sqrt{\\sin{(\\frac{\\varphi_2 - \\varphi_1}{2})}^2 + \\cos{\\varphi_1} \\cos{\\varphi_2} \\sin{(\\frac{\\lambda_2 -\\lambda_1}{2})}^2}}$\n",
    "\n",
    "Where $\\varphi_1, \\varphi_2$ are the latitudes of the two points in radians, $\\lambda_1, \\lambda_2$ are the longitudes of the two points in radians, $r$ is the radius of the earth, and $d$ is the distance between the two points.\n",
    "\n",
    "### Latitude Constant\n",
    "To translate d meters in the North/South latitude direction, we can assume that $\\lambda_1 = \\lambda_2 \\Rightarrow \\lambda_1 - \\lambda_2 = 0$, therefore:\n",
    "\n",
    "$d = 2r \\arcsin{\\sqrt{\\sin{(\\frac{\\varphi_2 - \\varphi_1}{2})^2}}}$\n",
    "\n",
    "$\\delta \\varphi = \\varphi_2 - \\varphi_1 = 2 \\arcsin{(\\sin{(\\frac{d}{2r})})} \\: (rad) =  \\frac{360}{\\pi} \\arcsin{(\\sin{(\\frac{d}{2r})})} \\: (degrees)$\n",
    "\n",
    "### Longitude Constant\n",
    "To translate d meters in the East/West longitude direction, we can assume that $\\varphi = \\varphi_1 = \\varphi_2 \\Rightarrow \\varphi_1 - \\varphi_2 = 0$, therefore:\n",
    "\n",
    "$d = 2r \\arcsin{\\sqrt{\\cos{\\varphi_1}\\cos{\\varphi_2} \\sin{(\\frac{\\lambda_2 - \\lambda_1}{2})^2}}}$\n",
    "\n",
    "$\\delta \\lambda = \\lambda_2 - \\lambda_1 = 2 \\arcsin{(\\frac{\\sin{(\\frac{d}{2r})}}{\\cos{\\varphi}})} \\: (rad)$\n",
    "\n",
    "$ = \\frac{360}{\\pi} \\arcsin{(\\frac{\\sin{(\\frac{d}{2r})}}{\\cos{\\varphi}})}\\: (degrees)$\n"
   ]
  },
  {
   "cell_type": "code",
   "execution_count": null,
   "metadata": {},
   "outputs": [],
   "source": []
  }
 ],
 "metadata": {
  "colab": {
   "authorship_tag": "ABX9TyOoxTJi4g2ePclsMcka9jWF",
   "collapsed_sections": [
    "pMRElu4fJkv0"
   ],
   "name": "SEES AOI Generator.ipynb",
   "provenance": []
  },
  "kernelspec": {
   "display_name": "Python 3 (ipykernel)",
   "language": "python",
   "name": "python3"
  },
  "language_info": {
   "codemirror_mode": {
    "name": "ipython",
    "version": 3
   },
   "file_extension": ".py",
   "mimetype": "text/x-python",
   "name": "python",
   "nbconvert_exporter": "python",
   "pygments_lexer": "ipython3",
   "version": "3.7.10"
  }
 },
 "nbformat": 4,
 "nbformat_minor": 4
}
